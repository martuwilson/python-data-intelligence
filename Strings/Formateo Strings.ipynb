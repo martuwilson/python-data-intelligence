{
 "cells": [
  {
   "cell_type": "code",
   "execution_count": 3,
   "id": "8926c4b1-1cad-41a0-9a44-16b6779c24d1",
   "metadata": {},
   "outputs": [],
   "source": [
    "saludo = \"Hola\"\n",
    "nombre = \"Raul\"\n",
    "\n",
    "frase = saludo + \" \" + nombre"
   ]
  },
  {
   "cell_type": "code",
   "execution_count": 4,
   "id": "37fe3d5e-5b39-4a0e-8134-522afbd92fe6",
   "metadata": {},
   "outputs": [
    {
     "data": {
      "text/plain": [
       "'Hola Raul'"
      ]
     },
     "execution_count": 4,
     "metadata": {},
     "output_type": "execute_result"
    }
   ],
   "source": [
    "frase"
   ]
  },
  {
   "cell_type": "code",
   "execution_count": 7,
   "id": "5f631a6b-862d-44ff-a4be-1c7d5dd4a4be",
   "metadata": {},
   "outputs": [
    {
     "data": {
      "text/plain": [
       "'Hola Raul, tenes 29 años'"
      ]
     },
     "execution_count": 7,
     "metadata": {},
     "output_type": "execute_result"
    }
   ],
   "source": [
    "edad = 29\n",
    "frase = saludo + \" \" + nombre + \", tenes \" + str(edad) + \" años\"\n",
    "frase"
   ]
  },
  {
   "cell_type": "code",
   "execution_count": 8,
   "id": "3f8e5c90-0c99-4482-b4e5-7a5ee2605063",
   "metadata": {},
   "outputs": [
    {
     "data": {
      "text/plain": [
       "'Hola Raul, tenes 29 años'"
      ]
     },
     "execution_count": 8,
     "metadata": {},
     "output_type": "execute_result"
    }
   ],
   "source": [
    "frase2 = \"Hola {}, tenes {} años\".format(nombre, edad)\n",
    "frase2"
   ]
  },
  {
   "cell_type": "code",
   "execution_count": 9,
   "id": "4d258091-e27b-430d-bd6f-8b2e7d2c7e0a",
   "metadata": {},
   "outputs": [
    {
     "data": {
      "text/plain": [
       "'Hola Raul, tenes 29 años'"
      ]
     },
     "execution_count": 9,
     "metadata": {},
     "output_type": "execute_result"
    }
   ],
   "source": [
    "frase3 = f\"Hola {nombre}, tenes {edad} años\"\n",
    "frase3"
   ]
  },
  {
   "cell_type": "code",
   "execution_count": null,
   "id": "a7d07510-3593-4b4e-917d-a7c991e69ded",
   "metadata": {},
   "outputs": [],
   "source": []
  }
 ],
 "metadata": {
  "kernelspec": {
   "display_name": "Python 3 (ipykernel)",
   "language": "python",
   "name": "python3"
  },
  "language_info": {
   "codemirror_mode": {
    "name": "ipython",
    "version": 3
   },
   "file_extension": ".py",
   "mimetype": "text/x-python",
   "name": "python",
   "nbconvert_exporter": "python",
   "pygments_lexer": "ipython3",
   "version": "3.13.5"
  }
 },
 "nbformat": 4,
 "nbformat_minor": 5
}
