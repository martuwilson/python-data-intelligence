{
 "cells": [
  {
   "cell_type": "code",
   "execution_count": 1,
   "id": "e9578471-30b5-49f1-9bd6-500a8169e8ae",
   "metadata": {},
   "outputs": [],
   "source": [
    "palabra = \"banana\""
   ]
  },
  {
   "cell_type": "code",
   "execution_count": 2,
   "id": "fe1dc7ff-a493-41c5-a88f-eb17240e4d65",
   "metadata": {},
   "outputs": [
    {
     "data": {
      "text/plain": [
       "3"
      ]
     },
     "execution_count": 2,
     "metadata": {},
     "output_type": "execute_result"
    }
   ],
   "source": [
    "palabra.count(\"a\")"
   ]
  },
  {
   "cell_type": "code",
   "execution_count": 5,
   "id": "de96cb06-e3eb-4f50-a364-f4853c8fa891",
   "metadata": {},
   "outputs": [
    {
     "data": {
      "text/plain": [
       "3"
      ]
     },
     "execution_count": 5,
     "metadata": {},
     "output_type": "execute_result"
    }
   ],
   "source": [
    "frase = \"hola como andas che?\"\n",
    "frase.count(\" \") #cuenta espacios"
   ]
  },
  {
   "cell_type": "code",
   "execution_count": 6,
   "id": "1f8ef98e-8054-4867-89cb-332cc7fcf6b3",
   "metadata": {},
   "outputs": [
    {
     "name": "stdout",
     "output_type": "stream",
     "text": [
      "4\n"
     ]
    }
   ],
   "source": [
    "print(frase.count(\" \") + 1) #cuenta palabras"
   ]
  },
  {
   "cell_type": "code",
   "execution_count": null,
   "id": "92125177-bed6-4e90-a22e-42bd6012a10e",
   "metadata": {},
   "outputs": [],
   "source": [
    "frase.strip() #si hay espacios vacios, los elimina si osn inicio o al final"
   ]
  },
  {
   "cell_type": "code",
   "execution_count": 7,
   "id": "6af17b05-f120-4db2-852f-1fa048e3c450",
   "metadata": {},
   "outputs": [
    {
     "data": {
      "text/plain": [
       "['hola', 'como', 'andas', 'che?']"
      ]
     },
     "execution_count": 7,
     "metadata": {},
     "output_type": "execute_result"
    }
   ],
   "source": [
    "frase.split(\" \")"
   ]
  },
  {
   "cell_type": "code",
   "execution_count": null,
   "id": "10a6589f-e96e-400d-9038-a2de27d6761d",
   "metadata": {},
   "outputs": [],
   "source": []
  }
 ],
 "metadata": {
  "kernelspec": {
   "display_name": "Python 3 (ipykernel)",
   "language": "python",
   "name": "python3"
  },
  "language_info": {
   "codemirror_mode": {
    "name": "ipython",
    "version": 3
   },
   "file_extension": ".py",
   "mimetype": "text/x-python",
   "name": "python",
   "nbconvert_exporter": "python",
   "pygments_lexer": "ipython3",
   "version": "3.13.5"
  }
 },
 "nbformat": 4,
 "nbformat_minor": 5
}
