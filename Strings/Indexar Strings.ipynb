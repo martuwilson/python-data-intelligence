{
 "cells": [
  {
   "cell_type": "code",
   "execution_count": 7,
   "id": "8401417d-012a-4944-95e8-83735b5c0123",
   "metadata": {},
   "outputs": [],
   "source": [
    "palabra = \"Manzana\""
   ]
  },
  {
   "cell_type": "code",
   "execution_count": 8,
   "id": "b90917a7-d129-4cdc-ac8d-f954a1f1459c",
   "metadata": {},
   "outputs": [
    {
     "data": {
      "text/plain": [
       "'M'"
      ]
     },
     "execution_count": 8,
     "metadata": {},
     "output_type": "execute_result"
    }
   ],
   "source": [
    "palabra[0]"
   ]
  },
  {
   "cell_type": "code",
   "execution_count": 9,
   "id": "bdcaea9d-ad83-4b7c-9316-e229d228d1c3",
   "metadata": {},
   "outputs": [
    {
     "data": {
      "text/plain": [
       "'n'"
      ]
     },
     "execution_count": 9,
     "metadata": {},
     "output_type": "execute_result"
    }
   ],
   "source": [
    "palabra[-2]"
   ]
  },
  {
   "cell_type": "code",
   "execution_count": 10,
   "id": "f4982ae0-bfcf-4515-96f4-5f7b145f43f7",
   "metadata": {},
   "outputs": [
    {
     "data": {
      "text/plain": [
       "'Man'"
      ]
     },
     "execution_count": 10,
     "metadata": {},
     "output_type": "execute_result"
    }
   ],
   "source": [
    "palabra[0:3]"
   ]
  },
  {
   "cell_type": "code",
   "execution_count": 11,
   "id": "238b2d02-0435-4307-8d78-2e181ed3d8c6",
   "metadata": {},
   "outputs": [
    {
     "data": {
      "text/plain": [
       "'Mna'"
      ]
     },
     "execution_count": 11,
     "metadata": {},
     "output_type": "execute_result"
    }
   ],
   "source": [
    "palabra[0:5:2]"
   ]
  },
  {
   "cell_type": "code",
   "execution_count": 12,
   "id": "87a3d211-14fa-469d-b9bd-2c9cb4595ce0",
   "metadata": {},
   "outputs": [
    {
     "data": {
      "text/plain": [
       "'MNA'"
      ]
     },
     "execution_count": 12,
     "metadata": {},
     "output_type": "execute_result"
    }
   ],
   "source": [
    "palabra[0:5:2].upper()"
   ]
  },
  {
   "cell_type": "code",
   "execution_count": null,
   "id": "af324cd7-de38-4e37-b233-688e291a7128",
   "metadata": {},
   "outputs": [],
   "source": []
  }
 ],
 "metadata": {
  "kernelspec": {
   "display_name": "Python 3 (ipykernel)",
   "language": "python",
   "name": "python3"
  },
  "language_info": {
   "codemirror_mode": {
    "name": "ipython",
    "version": 3
   },
   "file_extension": ".py",
   "mimetype": "text/x-python",
   "name": "python",
   "nbconvert_exporter": "python",
   "pygments_lexer": "ipython3",
   "version": "3.13.5"
  }
 },
 "nbformat": 4,
 "nbformat_minor": 5
}
