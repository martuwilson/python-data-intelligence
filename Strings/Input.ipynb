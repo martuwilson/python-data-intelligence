{
 "cells": [
  {
   "cell_type": "code",
   "execution_count": 1,
   "id": "f9bb8bc3-4a87-4ff6-940e-d661f11b284b",
   "metadata": {},
   "outputs": [
    {
     "name": "stdin",
     "output_type": "stream",
     "text": [
      "Ingresa algo: holis\n"
     ]
    },
    {
     "data": {
      "text/plain": [
       "'holis'"
      ]
     },
     "execution_count": 1,
     "metadata": {},
     "output_type": "execute_result"
    }
   ],
   "source": [
    "input(\"Ingresa algo:\")"
   ]
  },
  {
   "cell_type": "code",
   "execution_count": 3,
   "id": "fa48b482-f1d8-4e4b-bbca-3477c6196df5",
   "metadata": {},
   "outputs": [
    {
     "name": "stdin",
     "output_type": "stream",
     "text": [
      "Por favor, dime tu nombre:  Martu\n"
     ]
    },
    {
     "name": "stdout",
     "output_type": "stream",
     "text": [
      "Hola Martu\n"
     ]
    }
   ],
   "source": [
    "nombre = input(\"Por favor, dime tu nombre: \")\n",
    "print(\"Hola \" + nombre)"
   ]
  },
  {
   "cell_type": "code",
   "execution_count": 5,
   "id": "9b43720d-0b43-44e1-b21a-eeb6c2f08b2b",
   "metadata": {},
   "outputs": [
    {
     "name": "stdin",
     "output_type": "stream",
     "text": [
      "Decime tu edad:  29\n"
     ]
    }
   ],
   "source": [
    "edad = input(\"Decime tu edad: \")\n"
   ]
  },
  {
   "cell_type": "code",
   "execution_count": 6,
   "id": "82d49a11-8109-4e4b-846f-2cd2c21cea14",
   "metadata": {},
   "outputs": [
    {
     "data": {
      "text/plain": [
       "str"
      ]
     },
     "execution_count": 6,
     "metadata": {},
     "output_type": "execute_result"
    }
   ],
   "source": [
    "type(edad)"
   ]
  },
  {
   "cell_type": "code",
   "execution_count": 7,
   "id": "94412ba6-ff62-4bba-9f4f-dd2f3055df4d",
   "metadata": {},
   "outputs": [
    {
     "name": "stdin",
     "output_type": "stream",
     "text": [
      "Decime tu edad:  29\n"
     ]
    }
   ],
   "source": [
    "edad = int(input(\"Decime tu edad: \"))"
   ]
  },
  {
   "cell_type": "code",
   "execution_count": 8,
   "id": "d080ceab-65e1-42aa-8442-575f1576c0cc",
   "metadata": {},
   "outputs": [
    {
     "data": {
      "text/plain": [
       "int"
      ]
     },
     "execution_count": 8,
     "metadata": {},
     "output_type": "execute_result"
    }
   ],
   "source": [
    "type(edad)"
   ]
  },
  {
   "cell_type": "code",
   "execution_count": null,
   "id": "7f6e64fa-97db-4ba7-a370-e8dfb5cbc9eb",
   "metadata": {},
   "outputs": [],
   "source": []
  }
 ],
 "metadata": {
  "kernelspec": {
   "display_name": "Python 3 (ipykernel)",
   "language": "python",
   "name": "python3"
  },
  "language_info": {
   "codemirror_mode": {
    "name": "ipython",
    "version": 3
   },
   "file_extension": ".py",
   "mimetype": "text/x-python",
   "name": "python",
   "nbconvert_exporter": "python",
   "pygments_lexer": "ipython3",
   "version": "3.13.5"
  }
 },
 "nbformat": 4,
 "nbformat_minor": 5
}
