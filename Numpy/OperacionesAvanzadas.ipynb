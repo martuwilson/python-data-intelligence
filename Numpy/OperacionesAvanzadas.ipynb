{
 "cells": [
  {
   "cell_type": "code",
   "execution_count": 4,
   "id": "fc3c3de4-d2fb-4d4b-a2f7-7b2a1f2b76ff",
   "metadata": {},
   "outputs": [],
   "source": [
    "import numpy as np"
   ]
  },
  {
   "cell_type": "code",
   "execution_count": 5,
   "id": "3162b9e1-61b5-4c41-b514-d7e827222ee9",
   "metadata": {},
   "outputs": [
    {
     "data": {
      "text/plain": [
       "array([1, 2, 3])"
      ]
     },
     "execution_count": 5,
     "metadata": {},
     "output_type": "execute_result"
    }
   ],
   "source": [
    "array1 = np.array([1,2,3])\n",
    "array1"
   ]
  },
  {
   "cell_type": "code",
   "execution_count": 6,
   "id": "04a18df2-c9cd-4d00-8c88-2b562133fc5d",
   "metadata": {},
   "outputs": [
    {
     "data": {
      "text/plain": [
       "array([[ 0],\n",
       "       [10],\n",
       "       [20],\n",
       "       [30]])"
      ]
     },
     "execution_count": 6,
     "metadata": {},
     "output_type": "execute_result"
    }
   ],
   "source": [
    "array2 = np.array(\n",
    "    [[0],[10],[20],[30]]\n",
    ")\n",
    "\n",
    "array2"
   ]
  },
  {
   "cell_type": "code",
   "execution_count": 7,
   "id": "840d312c-afe0-40af-a6fd-24973b13ef9f",
   "metadata": {},
   "outputs": [
    {
     "data": {
      "text/plain": [
       "array([[ 1,  2,  3],\n",
       "       [11, 12, 13],\n",
       "       [21, 22, 23],\n",
       "       [31, 32, 33]])"
      ]
     },
     "execution_count": 7,
     "metadata": {},
     "output_type": "execute_result"
    }
   ],
   "source": [
    "## Broadcasting \n",
    "\n",
    "broadcast_suma = array2 + array1\n",
    "broadcast_suma"
   ]
  },
  {
   "cell_type": "code",
   "execution_count": 9,
   "id": "a35ece9f-c5c1-4ec7-b182-941c95035e81",
   "metadata": {},
   "outputs": [
    {
     "data": {
      "text/plain": [
       "array([[ 0,  0,  0],\n",
       "       [10, 20, 30],\n",
       "       [20, 40, 60],\n",
       "       [30, 60, 90]])"
      ]
     },
     "execution_count": 9,
     "metadata": {},
     "output_type": "execute_result"
    }
   ],
   "source": [
    "brodcast_multi = array2 * array1\n",
    "brodcast_multi"
   ]
  },
  {
   "cell_type": "code",
   "execution_count": 10,
   "id": "43bce4cf-9433-4577-aeb7-90fcc65412f2",
   "metadata": {},
   "outputs": [],
   "source": [
    "## Funciona universales (uFuncs) - applican elemneto por elemento\n",
    "a = np.array([1,2,3])\n",
    "b = np.array([4,5,6])"
   ]
  },
  {
   "cell_type": "code",
   "execution_count": 11,
   "id": "daf51d03-41d1-4643-ad75-0e1f6696064d",
   "metadata": {},
   "outputs": [
    {
     "data": {
      "text/plain": [
       "array([5, 7, 9])"
      ]
     },
     "execution_count": 11,
     "metadata": {},
     "output_type": "execute_result"
    }
   ],
   "source": [
    "resultado = np.add(a,b)\n",
    "resultado"
   ]
  },
  {
   "cell_type": "code",
   "execution_count": 12,
   "id": "a8b33c7a-b4a1-42aa-a839-9e9d5974f1a9",
   "metadata": {},
   "outputs": [],
   "source": [
    "## substract() (restas), multiply(), divide()"
   ]
  },
  {
   "cell_type": "code",
   "execution_count": 13,
   "id": "339b5746-608e-44db-b1c1-41c6416d4f61",
   "metadata": {},
   "outputs": [
    {
     "data": {
      "text/plain": [
       "array([ 2.71828183,  7.3890561 , 20.08553692])"
      ]
     },
     "execution_count": 13,
     "metadata": {},
     "output_type": "execute_result"
    }
   ],
   "source": [
    "# Exponencial de cada numero de array\n",
    "resultado2 = np.exp(a)\n",
    "resultado2"
   ]
  },
  {
   "cell_type": "code",
   "execution_count": 14,
   "id": "c448ba2a-09e6-4f70-b9a2-2d4ad22d9dec",
   "metadata": {},
   "outputs": [
    {
     "data": {
      "text/plain": [
       "array([0.        , 0.69314718, 1.09861229])"
      ]
     },
     "execution_count": 14,
     "metadata": {},
     "output_type": "execute_result"
    }
   ],
   "source": [
    "## Log\n",
    "resultado3 = np.log(a)\n",
    "resultado3"
   ]
  },
  {
   "cell_type": "code",
   "execution_count": 15,
   "id": "681fcf01-8007-4cfe-8136-15c29def3a40",
   "metadata": {},
   "outputs": [
    {
     "data": {
      "text/plain": [
       "array([0.       , 1.       , 1.5849625])"
      ]
     },
     "execution_count": 15,
     "metadata": {},
     "output_type": "execute_result"
    }
   ],
   "source": [
    "resultado4 = np.log2(a) ## puede usarse varias bases, 1,2,10,etc\n",
    "resultado4"
   ]
  },
  {
   "cell_type": "code",
   "execution_count": 16,
   "id": "5c3b4117-8bab-40e7-8e1e-38afaca9eb6e",
   "metadata": {},
   "outputs": [
    {
     "data": {
      "text/plain": [
       "array([1.        , 1.41421356, 1.73205081])"
      ]
     },
     "execution_count": 16,
     "metadata": {},
     "output_type": "execute_result"
    }
   ],
   "source": [
    "resultado5 = np.sqrt(a)\n",
    "resultado5 ##raiz cuadrada"
   ]
  },
  {
   "cell_type": "code",
   "execution_count": null,
   "id": "5d875cf2-1c31-4596-8455-24b45c883c56",
   "metadata": {},
   "outputs": [],
   "source": []
  }
 ],
 "metadata": {
  "kernelspec": {
   "display_name": "Python 3 (ipykernel)",
   "language": "python",
   "name": "python3"
  },
  "language_info": {
   "codemirror_mode": {
    "name": "ipython",
    "version": 3
   },
   "file_extension": ".py",
   "mimetype": "text/x-python",
   "name": "python",
   "nbconvert_exporter": "python",
   "pygments_lexer": "ipython3",
   "version": "3.13.5"
  }
 },
 "nbformat": 4,
 "nbformat_minor": 5
}
