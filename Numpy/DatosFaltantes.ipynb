{
 "cells": [
  {
   "cell_type": "code",
   "execution_count": 1,
   "id": "e2b31254-abc1-4d0a-89c5-5ee4cafdf4ae",
   "metadata": {},
   "outputs": [],
   "source": [
    "import numpy as np"
   ]
  },
  {
   "cell_type": "code",
   "execution_count": 2,
   "id": "49a473e3-47fb-4eca-92b2-0c4eaafcb8b7",
   "metadata": {},
   "outputs": [
    {
     "data": {
      "text/plain": [
       "nan"
      ]
     },
     "execution_count": 2,
     "metadata": {},
     "output_type": "execute_result"
    }
   ],
   "source": [
    "np.nan ## asi se verian en numpy"
   ]
  },
  {
   "cell_type": "code",
   "execution_count": 3,
   "id": "ae5e225c-563d-49c0-a056-a96d83d22aa3",
   "metadata": {},
   "outputs": [
    {
     "data": {
      "text/plain": [
       "array([ 1.,  2., nan,  4.,  5.])"
      ]
     },
     "execution_count": 3,
     "metadata": {},
     "output_type": "execute_result"
    }
   ],
   "source": [
    "array = np.array([1,2,np.nan, 4,5])\n",
    "array"
   ]
  },
  {
   "cell_type": "code",
   "execution_count": 4,
   "id": "b62472c8-3eb7-4179-82ee-43b52a82a7cd",
   "metadata": {},
   "outputs": [
    {
     "data": {
      "text/plain": [
       "array([False, False,  True, False, False])"
      ]
     },
     "execution_count": 4,
     "metadata": {},
     "output_type": "execute_result"
    }
   ],
   "source": [
    "##ver valores no validos en un array\n",
    "np.isnan(array)"
   ]
  },
  {
   "cell_type": "code",
   "execution_count": 5,
   "id": "eb3845c5-8ab8-4cc2-b868-9e49ca4b2867",
   "metadata": {},
   "outputs": [
    {
     "data": {
      "text/plain": [
       "np.float64(nan)"
      ]
     },
     "execution_count": 5,
     "metadata": {},
     "output_type": "execute_result"
    }
   ],
   "source": [
    "## manejar no vlaidos en calculos\n",
    "##Promedio\n",
    "np.mean(array)"
   ]
  },
  {
   "cell_type": "code",
   "execution_count": 6,
   "id": "ee0167c6-72b8-43c5-a1ae-251fb63422fd",
   "metadata": {},
   "outputs": [],
   "source": [
    "##sale nan por el no valido"
   ]
  },
  {
   "cell_type": "code",
   "execution_count": 7,
   "id": "4ec3b5e6-081a-4646-8375-15f84c07d8e5",
   "metadata": {},
   "outputs": [
    {
     "data": {
      "text/plain": [
       "np.float64(3.0)"
      ]
     },
     "execution_count": 7,
     "metadata": {},
     "output_type": "execute_result"
    }
   ],
   "source": [
    "np.nanmean(array) ##considera los nan y los ignora"
   ]
  },
  {
   "cell_type": "code",
   "execution_count": 8,
   "id": "0ac0b5e7-742f-4c6b-aadc-33237fd2e7f5",
   "metadata": {},
   "outputs": [
    {
     "data": {
      "text/plain": [
       "array([1., 2., 0., 4., 5.])"
      ]
     },
     "execution_count": 8,
     "metadata": {},
     "output_type": "execute_result"
    }
   ],
   "source": [
    "##sustitución de nan\n",
    "array_con_cero = np.where(np.isnan(array), 0, array) ##mira si hay nan en array, si hay cambia por cero, sino deja igual\n",
    "array_con_cero"
   ]
  },
  {
   "cell_type": "code",
   "execution_count": 9,
   "id": "f639337f-4474-436c-aa86-2524c73f207c",
   "metadata": {},
   "outputs": [
    {
     "data": {
      "text/plain": [
       "array([1., 2., 3., 4., 5.])"
      ]
     },
     "execution_count": 9,
     "metadata": {},
     "output_type": "execute_result"
    }
   ],
   "source": [
    "promedio = np.nanmean(array)\n",
    "array_con_promedio = np.where(np.isnan(array), promedio, array)\n",
    "array_con_promedio"
   ]
  },
  {
   "cell_type": "code",
   "execution_count": 14,
   "id": "68ace1de-0d6a-4abc-8c1b-1adab36a5c7f",
   "metadata": {},
   "outputs": [],
   "source": [
    "##eliminar los nan\n",
    "array_filtrado = array[~np.isnan(array)] ##el icon ~ hace lo contrario a la declaracion, osea is nan devolvia solo el nan, ahora con ~ develve todos menos el nan"
   ]
  },
  {
   "cell_type": "code",
   "execution_count": 15,
   "id": "c3438a0d-0157-4c4f-bff4-41f8130ea013",
   "metadata": {},
   "outputs": [
    {
     "data": {
      "text/plain": [
       "array([1., 2., 4., 5.])"
      ]
     },
     "execution_count": 15,
     "metadata": {},
     "output_type": "execute_result"
    }
   ],
   "source": [
    "array_filtrado"
   ]
  },
  {
   "cell_type": "code",
   "execution_count": null,
   "id": "3a589ec0-d5f7-4322-968d-db457fbffcc7",
   "metadata": {},
   "outputs": [],
   "source": []
  }
 ],
 "metadata": {
  "kernelspec": {
   "display_name": "Python 3 (ipykernel)",
   "language": "python",
   "name": "python3"
  },
  "language_info": {
   "codemirror_mode": {
    "name": "ipython",
    "version": 3
   },
   "file_extension": ".py",
   "mimetype": "text/x-python",
   "name": "python",
   "nbconvert_exporter": "python",
   "pygments_lexer": "ipython3",
   "version": "3.13.5"
  }
 },
 "nbformat": 4,
 "nbformat_minor": 5
}
