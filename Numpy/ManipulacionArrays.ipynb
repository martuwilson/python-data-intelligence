{
 "cells": [
  {
   "cell_type": "code",
   "execution_count": 1,
   "id": "d765187b-6bfb-4819-aeaf-a8d09092a5e8",
   "metadata": {},
   "outputs": [],
   "source": [
    "import numpy as np"
   ]
  },
  {
   "cell_type": "code",
   "execution_count": 2,
   "id": "f0333afc-86f2-4488-9e31-6bdcb6cdccad",
   "metadata": {},
   "outputs": [],
   "source": [
    "x = [1,2,3]\n",
    "y = [1,2,3]\n",
    "z = [1,2,3]"
   ]
  },
  {
   "cell_type": "code",
   "execution_count": 3,
   "id": "8f8fde1d-a84e-43d5-b86f-56d9341f7f0a",
   "metadata": {},
   "outputs": [
    {
     "data": {
      "text/plain": [
       "array([1, 2, 3, 1, 2, 3, 1, 2, 3])"
      ]
     },
     "execution_count": 3,
     "metadata": {},
     "output_type": "execute_result"
    }
   ],
   "source": [
    "##Concatenar\n",
    "np.concatenate([x,y,z])"
   ]
  },
  {
   "cell_type": "code",
   "execution_count": 4,
   "id": "4cf8dcb9-cabe-45ff-b4b3-33ea574b2ec7",
   "metadata": {},
   "outputs": [
    {
     "data": {
      "text/plain": [
       "array([[1, 2, 5, 6],\n",
       "       [3, 4, 7, 8]])"
      ]
     },
     "execution_count": 4,
     "metadata": {},
     "output_type": "execute_result"
    }
   ],
   "source": [
    "## Eje o axys en concatenate\n",
    "a = [[1,2],\n",
    "    [3,4]]\n",
    "b = [[5,6], [7,8]]\n",
    "np.concatenate([a,b], axis = 1) ## concatenar en el eje 1"
   ]
  },
  {
   "cell_type": "code",
   "execution_count": 5,
   "id": "5093b8d5-c66b-4992-a3b6-08416b826a5e",
   "metadata": {},
   "outputs": [
    {
     "data": {
      "text/plain": [
       "array([[1, 2],\n",
       "       [3, 4],\n",
       "       [5, 6],\n",
       "       [7, 8]])"
      ]
     },
     "execution_count": 5,
     "metadata": {},
     "output_type": "execute_result"
    }
   ],
   "source": [
    "np.concatenate([a,b], axis = 0) ## concatenar en el eje 0"
   ]
  },
  {
   "cell_type": "code",
   "execution_count": 6,
   "id": "6e22eb65-5be6-4aa3-99a1-364f68dd1145",
   "metadata": {},
   "outputs": [
    {
     "data": {
      "text/plain": [
       "array([[1, 2],\n",
       "       [3, 4],\n",
       "       [5, 6],\n",
       "       [7, 8]])"
      ]
     },
     "execution_count": 6,
     "metadata": {},
     "output_type": "execute_result"
    }
   ],
   "source": [
    "arrayconcatenado = np.concatenate([a,b], axis = 0) \n",
    "arrayconcatenado"
   ]
  },
  {
   "cell_type": "code",
   "execution_count": 7,
   "id": "c3cfdb24-68c1-429e-8034-515d400c7a27",
   "metadata": {},
   "outputs": [
    {
     "data": {
      "text/plain": [
       "(4, 2)"
      ]
     },
     "execution_count": 7,
     "metadata": {},
     "output_type": "execute_result"
    }
   ],
   "source": [
    "arrayconcatenado.shape"
   ]
  },
  {
   "cell_type": "code",
   "execution_count": 8,
   "id": "4a340378-2a23-4d23-9a52-70d839d7bded",
   "metadata": {},
   "outputs": [
    {
     "data": {
      "text/plain": [
       "array([[1, 2, 3, 4],\n",
       "       [5, 6, 7, 8]])"
      ]
     },
     "execution_count": 8,
     "metadata": {},
     "output_type": "execute_result"
    }
   ],
   "source": [
    "arrayreformado = arrayconcatenado.reshape(2,4)\n",
    "arrayreformado"
   ]
  },
  {
   "cell_type": "code",
   "execution_count": 9,
   "id": "a27d2943-1894-4230-bcbf-13dc35f62f33",
   "metadata": {},
   "outputs": [
    {
     "data": {
      "text/plain": [
       "array([[ 2,  4,  6,  8],\n",
       "       [10, 12, 14, 16]])"
      ]
     },
     "execution_count": 9,
     "metadata": {},
     "output_type": "execute_result"
    }
   ],
   "source": [
    "## sumar arrays\n",
    "arraysumado = arrayreformado + arrayreformado\n",
    "arraysumado"
   ]
  },
  {
   "cell_type": "code",
   "execution_count": 11,
   "id": "c972166a-57f8-49ed-a562-9cd3a9ed8ff0",
   "metadata": {},
   "outputs": [
    {
     "data": {
      "text/plain": [
       "array([[ 1,  4,  9, 16],\n",
       "       [25, 36, 49, 64]])"
      ]
     },
     "execution_count": 11,
     "metadata": {},
     "output_type": "execute_result"
    }
   ],
   "source": [
    "## multiplicar tambien se puede\n",
    "arraymulti = arrayreformado * arrayreformado\n",
    "arraymulti"
   ]
  },
  {
   "cell_type": "code",
   "execution_count": 12,
   "id": "a8979dae-3956-4371-a350-e6dbc5a89112",
   "metadata": {},
   "outputs": [
    {
     "data": {
      "text/plain": [
       "array([[1., 2., 3., 4.],\n",
       "       [5., 6., 7., 8.]])"
      ]
     },
     "execution_count": 12,
     "metadata": {},
     "output_type": "execute_result"
    }
   ],
   "source": [
    "##raices\n",
    "raices = np.sqrt(arraymulti)\n",
    "raices"
   ]
  },
  {
   "cell_type": "code",
   "execution_count": null,
   "id": "109a77e5-35f6-45d5-b0e2-8f70d6f43d5f",
   "metadata": {},
   "outputs": [],
   "source": []
  }
 ],
 "metadata": {
  "kernelspec": {
   "display_name": "Python 3 (ipykernel)",
   "language": "python",
   "name": "python3"
  },
  "language_info": {
   "codemirror_mode": {
    "name": "ipython",
    "version": 3
   },
   "file_extension": ".py",
   "mimetype": "text/x-python",
   "name": "python",
   "nbconvert_exporter": "python",
   "pygments_lexer": "ipython3",
   "version": "3.13.5"
  }
 },
 "nbformat": 4,
 "nbformat_minor": 5
}
