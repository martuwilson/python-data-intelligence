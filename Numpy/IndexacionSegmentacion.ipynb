{
 "cells": [
  {
   "cell_type": "code",
   "execution_count": 1,
   "id": "df32cac8-5fe9-4dd4-a61e-b42f28892e83",
   "metadata": {},
   "outputs": [],
   "source": [
    "import numpy as np\n",
    "array1d = np.array([1,2,3,4,5])\n",
    "array2d = np.array(\n",
    "    [\n",
    "        [1,2,3],\n",
    "        [4,5,6],\n",
    "        [7,8,9]\n",
    "    ]\n",
    ")"
   ]
  },
  {
   "cell_type": "code",
   "execution_count": 2,
   "id": "8a9c1619-fee3-4962-b8fc-9e6997a84e0e",
   "metadata": {},
   "outputs": [
    {
     "data": {
      "text/plain": [
       "np.int64(1)"
      ]
     },
     "execution_count": 2,
     "metadata": {},
     "output_type": "execute_result"
    }
   ],
   "source": [
    "## 1er elemento del array 1d\n",
    "array1d[0]"
   ]
  },
  {
   "cell_type": "code",
   "execution_count": 3,
   "id": "c079b1f3-c452-4ea9-a917-4477b2430306",
   "metadata": {},
   "outputs": [
    {
     "data": {
      "text/plain": [
       "np.int64(5)"
      ]
     },
     "execution_count": 3,
     "metadata": {},
     "output_type": "execute_result"
    }
   ],
   "source": [
    "array1d[-1]"
   ]
  },
  {
   "cell_type": "code",
   "execution_count": 4,
   "id": "11ca45cb-f39b-41ef-a664-2a14979f0a4b",
   "metadata": {},
   "outputs": [
    {
     "data": {
      "text/plain": [
       "array([1, 2, 3])"
      ]
     },
     "execution_count": 4,
     "metadata": {},
     "output_type": "execute_result"
    }
   ],
   "source": [
    "## en el 2d\n",
    "array2d[0]"
   ]
  },
  {
   "cell_type": "code",
   "execution_count": 5,
   "id": "e0337a87-f840-4184-9818-6a2e6b864994",
   "metadata": {},
   "outputs": [
    {
     "data": {
      "text/plain": [
       "np.int64(2)"
      ]
     },
     "execution_count": 5,
     "metadata": {},
     "output_type": "execute_result"
    }
   ],
   "source": [
    "array2d[0][1]"
   ]
  },
  {
   "cell_type": "code",
   "execution_count": 6,
   "id": "9c736864-2b8a-452c-ae46-846ef262523a",
   "metadata": {},
   "outputs": [
    {
     "data": {
      "text/plain": [
       "array([2, 3, 4])"
      ]
     },
     "execution_count": 6,
     "metadata": {},
     "output_type": "execute_result"
    }
   ],
   "source": [
    "array1d[1:4]"
   ]
  },
  {
   "cell_type": "code",
   "execution_count": 7,
   "id": "ba40b4ea-d3f9-45a9-90f1-248b5470e6ad",
   "metadata": {},
   "outputs": [
    {
     "data": {
      "text/plain": [
       "array([4, 5, 6])"
      ]
     },
     "execution_count": 7,
     "metadata": {},
     "output_type": "execute_result"
    }
   ],
   "source": [
    "## en 2d\n",
    "array2d[1,:] ## todo es :"
   ]
  },
  {
   "cell_type": "code",
   "execution_count": 8,
   "id": "9f072e83-ad62-4c83-8924-33dc752730d1",
   "metadata": {},
   "outputs": [
    {
     "data": {
      "text/plain": [
       "array([5, 6])"
      ]
     },
     "execution_count": 8,
     "metadata": {},
     "output_type": "execute_result"
    }
   ],
   "source": [
    "array2d[1,1:3] "
   ]
  },
  {
   "cell_type": "code",
   "execution_count": 9,
   "id": "d88b9a55-dd86-40dc-9e09-965c05df5833",
   "metadata": {},
   "outputs": [
    {
     "data": {
      "text/plain": [
       "array([2, 5, 8])"
      ]
     },
     "execution_count": 9,
     "metadata": {},
     "output_type": "execute_result"
    }
   ],
   "source": [
    "array2d[:, 1]"
   ]
  },
  {
   "cell_type": "code",
   "execution_count": 10,
   "id": "5b5ee58d-02ca-472c-bbd0-500a11c5d482",
   "metadata": {},
   "outputs": [
    {
     "data": {
      "text/plain": [
       "array([[1, 2],\n",
       "       [4, 5]])"
      ]
     },
     "execution_count": 10,
     "metadata": {},
     "output_type": "execute_result"
    }
   ],
   "source": [
    "array2d[:2, :2]"
   ]
  },
  {
   "cell_type": "code",
   "execution_count": 11,
   "id": "03db3b64-c683-4ee0-8fc8-03f81c2ea82d",
   "metadata": {},
   "outputs": [
    {
     "data": {
      "text/plain": [
       "array([False, False, False,  True,  True])"
      ]
     },
     "execution_count": 11,
     "metadata": {},
     "output_type": "execute_result"
    }
   ],
   "source": [
    "##booleana\n",
    "array1d > 3"
   ]
  },
  {
   "cell_type": "code",
   "execution_count": 12,
   "id": "dc798534-5497-4c63-87bf-7d2025c11b01",
   "metadata": {},
   "outputs": [
    {
     "data": {
      "text/plain": [
       "array([[False,  True, False],\n",
       "       [ True, False,  True],\n",
       "       [False,  True, False]])"
      ]
     },
     "execution_count": 12,
     "metadata": {},
     "output_type": "execute_result"
    }
   ],
   "source": [
    "array2d  % 2 == 0"
   ]
  },
  {
   "cell_type": "code",
   "execution_count": null,
   "id": "a0745f74-ccb8-4c7e-ba24-9d2ab6120af5",
   "metadata": {},
   "outputs": [],
   "source": []
  }
 ],
 "metadata": {
  "kernelspec": {
   "display_name": "Python 3 (ipykernel)",
   "language": "python",
   "name": "python3"
  },
  "language_info": {
   "codemirror_mode": {
    "name": "ipython",
    "version": 3
   },
   "file_extension": ".py",
   "mimetype": "text/x-python",
   "name": "python",
   "nbconvert_exporter": "python",
   "pygments_lexer": "ipython3",
   "version": "3.13.5"
  }
 },
 "nbformat": 4,
 "nbformat_minor": 5
}
