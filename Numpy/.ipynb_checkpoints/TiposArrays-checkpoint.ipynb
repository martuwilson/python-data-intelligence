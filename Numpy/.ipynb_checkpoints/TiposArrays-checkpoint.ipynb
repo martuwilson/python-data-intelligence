{
 "cells": [
  {
   "cell_type": "code",
   "execution_count": 1,
   "id": "61133495-2ae2-49cd-af97-f37e329b0d43",
   "metadata": {},
   "outputs": [],
   "source": [
    "import numpy as np"
   ]
  },
  {
   "cell_type": "code",
   "execution_count": 3,
   "id": "7cfe5481-40a0-4472-ab30-6ce0df0ce7a2",
   "metadata": {},
   "outputs": [],
   "source": [
    "array = np.array([1,2,3]) ## array unidimensional , tiene un largo"
   ]
  },
  {
   "cell_type": "code",
   "execution_count": 4,
   "id": "0434883d-a046-4a8a-8add-86db72601834",
   "metadata": {},
   "outputs": [
    {
     "data": {
      "text/plain": [
       "3"
      ]
     },
     "execution_count": 4,
     "metadata": {},
     "output_type": "execute_result"
    }
   ],
   "source": [
    "len(array)"
   ]
  },
  {
   "cell_type": "code",
   "execution_count": 6,
   "id": "d2b196b2-9c4c-458f-9f83-ef6c42ec17d2",
   "metadata": {},
   "outputs": [
    {
     "data": {
      "text/plain": [
       "(3,)"
      ]
     },
     "execution_count": 6,
     "metadata": {},
     "output_type": "execute_result"
    }
   ],
   "source": [
    "## Forma de un df\n",
    "array.shape"
   ]
  },
  {
   "cell_type": "code",
   "execution_count": 7,
   "id": "7e51f4ed-f9e8-4164-a3a1-9ba6621ed8b2",
   "metadata": {},
   "outputs": [],
   "source": [
    "## Sale (3,) con estapcio \"vacio\" porque tiene una sola dimension"
   ]
  },
  {
   "cell_type": "code",
   "execution_count": 8,
   "id": "5b165735-2710-4de2-b58d-b92dba1e9708",
   "metadata": {},
   "outputs": [],
   "source": [
    "## Array 2 dimensiones"
   ]
  },
  {
   "cell_type": "code",
   "execution_count": 10,
   "id": "576f6cc5-10cd-4ee8-9b1e-83a2d464ca93",
   "metadata": {},
   "outputs": [
    {
     "data": {
      "text/plain": [
       "array([[1, 2, 3],\n",
       "       [4, 5, 6]])"
      ]
     },
     "execution_count": 10,
     "metadata": {},
     "output_type": "execute_result"
    }
   ],
   "source": [
    "array2d = np.array([[1,2,3],[4,5,6]])\n",
    "array2d"
   ]
  },
  {
   "cell_type": "code",
   "execution_count": 13,
   "id": "e46f20cf-dc69-4ac8-9f06-b5f5562bb609",
   "metadata": {},
   "outputs": [
    {
     "data": {
      "text/plain": [
       "2"
      ]
     },
     "execution_count": 13,
     "metadata": {},
     "output_type": "execute_result"
    }
   ],
   "source": [
    "len(array2d) ## va a dar 2 porque te dice que es 2 elementos, cada conjunto de array"
   ]
  },
  {
   "cell_type": "code",
   "execution_count": 15,
   "id": "e7e395ef-6f76-4637-bffd-ae38d4f81c09",
   "metadata": {},
   "outputs": [
    {
     "data": {
      "text/plain": [
       "(2, 3)"
      ]
     },
     "execution_count": 15,
     "metadata": {},
     "output_type": "execute_result"
    }
   ],
   "source": [
    "array2d.shape"
   ]
  },
  {
   "cell_type": "code",
   "execution_count": 16,
   "id": "3c88c0ff-0e25-4691-99b1-1f2e87a12eab",
   "metadata": {},
   "outputs": [],
   "source": [
    "## 2 es el alto y 3 el largo. Ya hay 2 dimensiones"
   ]
  },
  {
   "cell_type": "code",
   "execution_count": null,
   "id": "47496f3e-4818-46a2-93a2-adfbfc95bb64",
   "metadata": {},
   "outputs": [],
   "source": []
  }
 ],
 "metadata": {
  "kernelspec": {
   "display_name": "Python 3 (ipykernel)",
   "language": "python",
   "name": "python3"
  },
  "language_info": {
   "codemirror_mode": {
    "name": "ipython",
    "version": 3
   },
   "file_extension": ".py",
   "mimetype": "text/x-python",
   "name": "python",
   "nbconvert_exporter": "python",
   "pygments_lexer": "ipython3",
   "version": "3.13.5"
  }
 },
 "nbformat": 4,
 "nbformat_minor": 5
}
