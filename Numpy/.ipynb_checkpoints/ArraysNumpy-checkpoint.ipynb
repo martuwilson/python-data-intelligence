{
 "cells": [
  {
   "cell_type": "code",
   "execution_count": 1,
   "id": "6f17122c-10a8-47b3-befa-5151ccc6368a",
   "metadata": {},
   "outputs": [],
   "source": [
    "import numpy as np\n",
    "import time"
   ]
  },
  {
   "cell_type": "code",
   "execution_count": 2,
   "id": "6b94ff06-a5a6-4bf2-869a-47b4af8cba87",
   "metadata": {},
   "outputs": [
    {
     "data": {
      "text/plain": [
       "array([1, 2, 3, 4, 5])"
      ]
     },
     "execution_count": 2,
     "metadata": {},
     "output_type": "execute_result"
    }
   ],
   "source": [
    "mi_array = np.array([1,2,3,4,5])\n",
    "mi_array"
   ]
  },
  {
   "cell_type": "code",
   "execution_count": 3,
   "id": "690697ae-5339-4fd9-8607-9c9146b3d3c0",
   "metadata": {},
   "outputs": [
    {
     "data": {
      "text/plain": [
       "numpy.ndarray"
      ]
     },
     "execution_count": 3,
     "metadata": {},
     "output_type": "execute_result"
    }
   ],
   "source": [
    "type(mi_array)"
   ]
  },
  {
   "cell_type": "code",
   "execution_count": 5,
   "id": "73dffafa-7a04-4b8b-bd6b-b9c856ef44f4",
   "metadata": {},
   "outputs": [],
   "source": [
    "## crear lista de un millon de elementos\n",
    "lista_grande = list(range(1000000))"
   ]
  },
  {
   "cell_type": "code",
   "execution_count": 6,
   "id": "70d3a264-d1f7-4f5c-9757-3ce61eeaa631",
   "metadata": {},
   "outputs": [],
   "source": [
    "array_grande = np.array(lista_grande)"
   ]
  },
  {
   "cell_type": "code",
   "execution_count": 7,
   "id": "d11e8b85-a6f7-4907-bf62-7429abe5d5c2",
   "metadata": {},
   "outputs": [
    {
     "data": {
      "text/plain": [
       "list"
      ]
     },
     "execution_count": 7,
     "metadata": {},
     "output_type": "execute_result"
    }
   ],
   "source": [
    "type(lista_grande)"
   ]
  },
  {
   "cell_type": "code",
   "execution_count": 8,
   "id": "5de628de-e8f8-4c19-99e2-b180864f70b2",
   "metadata": {},
   "outputs": [
    {
     "data": {
      "text/plain": [
       "numpy.ndarray"
      ]
     },
     "execution_count": 8,
     "metadata": {},
     "output_type": "execute_result"
    }
   ],
   "source": [
    "type(array_grande)"
   ]
  },
  {
   "cell_type": "code",
   "execution_count": 10,
   "id": "daeb9411-3569-40f5-9686-3a22c3afe6de",
   "metadata": {},
   "outputs": [
    {
     "name": "stdout",
     "output_type": "stream",
     "text": [
      "Tiempor lista:  0.13559961318969727\n"
     ]
    }
   ],
   "source": [
    "## Medir tiempo de ejecucion\n",
    "import time\n",
    "inicio_lista = time.time()\n",
    "for i in lista_grande:\n",
    "    i **2\n",
    "fin_lista = time.time()\n",
    "print(\"Tiempor lista: \", fin_lista - inicio_lista)"
   ]
  },
  {
   "cell_type": "code",
   "execution_count": 12,
   "id": "bfc11cb3-ac4b-4e37-be4a-8405456f14cb",
   "metadata": {},
   "outputs": [
    {
     "name": "stdout",
     "output_type": "stream",
     "text": [
      "Tiempo array:  0.014969825744628906\n"
     ]
    }
   ],
   "source": [
    "import time\n",
    "inicio_array = time.time()\n",
    "array_grande ** 2\n",
    "fin_array = time.time()\n",
    "print(\"Tiempo array: \", fin_array - inicio_array)"
   ]
  },
  {
   "cell_type": "code",
   "execution_count": 13,
   "id": "75bbbaa8-e352-4019-9910-37dc21bf9568",
   "metadata": {},
   "outputs": [],
   "source": [
    "## con Numpy fue mas rapido"
   ]
  },
  {
   "cell_type": "code",
   "execution_count": null,
   "id": "aa2707ea-c3bf-4675-8d77-bd64ab4b7012",
   "metadata": {},
   "outputs": [],
   "source": []
  }
 ],
 "metadata": {
  "kernelspec": {
   "display_name": "Python 3 (ipykernel)",
   "language": "python",
   "name": "python3"
  },
  "language_info": {
   "codemirror_mode": {
    "name": "ipython",
    "version": 3
   },
   "file_extension": ".py",
   "mimetype": "text/x-python",
   "name": "python",
   "nbconvert_exporter": "python",
   "pygments_lexer": "ipython3",
   "version": "3.13.5"
  }
 },
 "nbformat": 4,
 "nbformat_minor": 5
}
