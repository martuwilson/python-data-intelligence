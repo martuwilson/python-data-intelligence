{
 "cells": [
  {
   "cell_type": "code",
   "execution_count": 1,
   "id": "f588d08f-55ab-46ae-b3c5-d51fa392d258",
   "metadata": {},
   "outputs": [],
   "source": [
    "import numpy as np"
   ]
  },
  {
   "cell_type": "code",
   "execution_count": 2,
   "id": "5dc59fdf-d9f6-48b4-aa81-494360a140e1",
   "metadata": {},
   "outputs": [],
   "source": [
    "array = np.array([1,2,3,4,5,6,7,8,9])"
   ]
  },
  {
   "cell_type": "code",
   "execution_count": 3,
   "id": "80901b6c-9111-4151-9353-36353db62b63",
   "metadata": {},
   "outputs": [
    {
     "data": {
      "text/plain": [
       "array([1, 2, 3, 4, 5, 6, 7, 8, 9])"
      ]
     },
     "execution_count": 3,
     "metadata": {},
     "output_type": "execute_result"
    }
   ],
   "source": [
    "array"
   ]
  },
  {
   "cell_type": "code",
   "execution_count": 4,
   "id": "286dcbfe-5dbb-421f-811a-4956e9c5963b",
   "metadata": {},
   "outputs": [
    {
     "data": {
      "text/plain": [
       "(9,)"
      ]
     },
     "execution_count": 4,
     "metadata": {},
     "output_type": "execute_result"
    }
   ],
   "source": [
    "## Métodos\n",
    "array.shape"
   ]
  },
  {
   "cell_type": "code",
   "execution_count": 5,
   "id": "19d24346-7646-4728-b8f4-6fb5dffa8620",
   "metadata": {},
   "outputs": [],
   "source": [
    "## 9 de largo pero lo demas vacio es una sola dimension"
   ]
  },
  {
   "cell_type": "code",
   "execution_count": 6,
   "id": "7841d471-640e-4781-af78-657d9b513d2b",
   "metadata": {},
   "outputs": [
    {
     "data": {
      "text/plain": [
       "array([[1, 2, 3],\n",
       "       [4, 5, 6],\n",
       "       [7, 8, 9]])"
      ]
     },
     "execution_count": 6,
     "metadata": {},
     "output_type": "execute_result"
    }
   ],
   "source": [
    "array_mod = array.reshape(3,3) ## bidimension de 3 columnas con 3 items cada uno\n",
    "array_mod"
   ]
  },
  {
   "cell_type": "code",
   "execution_count": 7,
   "id": "bb8e7b75-0420-4db5-bc81-2a47fe23adf4",
   "metadata": {},
   "outputs": [
    {
     "data": {
      "text/plain": [
       "array([[1, 2, 3],\n",
       "       [4, 5, 6],\n",
       "       [7, 8, 9]])"
      ]
     },
     "execution_count": 7,
     "metadata": {},
     "output_type": "execute_result"
    }
   ],
   "source": [
    "## Si le pones -1 \n",
    "array_mod_2 = array.reshape(-1,3) ## con el -1 calcula solo resumidamente\n",
    "array_mod_2 "
   ]
  },
  {
   "cell_type": "code",
   "execution_count": 8,
   "id": "1e16fd14-709a-4e3c-9368-3b98ee37aefd",
   "metadata": {},
   "outputs": [
    {
     "data": {
      "text/plain": [
       "array([[1, 4, 7],\n",
       "       [2, 5, 8],\n",
       "       [3, 6, 9]])"
      ]
     },
     "execution_count": 8,
     "metadata": {},
     "output_type": "execute_result"
    }
   ],
   "source": [
    "## voltear el array, columnas a filas y viceversa\n",
    "array_volteado = array_mod_2.transpose()\n",
    "array_volteado"
   ]
  },
  {
   "cell_type": "code",
   "execution_count": 9,
   "id": "e46248d6-6b8b-4ac0-b007-9ca49c020c92",
   "metadata": {},
   "outputs": [],
   "source": [
    "## cambiaron las filas por columnas y viceversa"
   ]
  },
  {
   "cell_type": "code",
   "execution_count": 10,
   "id": "39b9c84c-577c-49fb-b4b8-6a9453005a9e",
   "metadata": {},
   "outputs": [
    {
     "data": {
      "text/plain": [
       "array([1, 2, 3, 4, 5, 6, 7, 8, 9])"
      ]
     },
     "execution_count": 10,
     "metadata": {},
     "output_type": "execute_result"
    }
   ],
   "source": [
    "## Flatten\n",
    "array_flat = array_mod.flatten()\n",
    "array_flat"
   ]
  },
  {
   "cell_type": "code",
   "execution_count": 11,
   "id": "5c627582-b3b3-429c-a2d2-65ad0a3363ec",
   "metadata": {},
   "outputs": [],
   "source": [
    "## flatten hizo una copia achatada del original, dejo de ser bidimensional"
   ]
  },
  {
   "cell_type": "code",
   "execution_count": 12,
   "id": "2c02034a-d80f-4ef4-9b7a-c133ac62e48b",
   "metadata": {},
   "outputs": [],
   "source": [
    "array_ravel = array_mod.ravel() ## igual que flat pero ravel crea una vista,no ocupa memoria por crear una copia como flat"
   ]
  },
  {
   "cell_type": "code",
   "execution_count": 13,
   "id": "d44a00a8-8b30-447a-9d23-7cf5e8299bf5",
   "metadata": {},
   "outputs": [
    {
     "data": {
      "text/plain": [
       "array([1, 2, 3, 4, 5, 6, 7, 8, 9])"
      ]
     },
     "execution_count": 13,
     "metadata": {},
     "output_type": "execute_result"
    }
   ],
   "source": [
    "array_ravel"
   ]
  },
  {
   "cell_type": "code",
   "execution_count": null,
   "id": "8054ad78-40af-4893-8265-be6a3667c001",
   "metadata": {},
   "outputs": [],
   "source": []
  }
 ],
 "metadata": {
  "kernelspec": {
   "display_name": "Python 3 (ipykernel)",
   "language": "python",
   "name": "python3"
  },
  "language_info": {
   "codemirror_mode": {
    "name": "ipython",
    "version": 3
   },
   "file_extension": ".py",
   "mimetype": "text/x-python",
   "name": "python",
   "nbconvert_exporter": "python",
   "pygments_lexer": "ipython3",
   "version": "3.13.5"
  }
 },
 "nbformat": 4,
 "nbformat_minor": 5
}
