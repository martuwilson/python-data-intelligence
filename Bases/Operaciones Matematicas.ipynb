{
 "cells": [
  {
   "cell_type": "code",
   "execution_count": 1,
   "id": "514561a9-818a-4713-8055-354f3a4ec62d",
   "metadata": {},
   "outputs": [
    {
     "data": {
      "text/plain": [
       "4"
      ]
     },
     "execution_count": 1,
     "metadata": {},
     "output_type": "execute_result"
    }
   ],
   "source": [
    "2 + 2"
   ]
  },
  {
   "cell_type": "code",
   "execution_count": 2,
   "id": "722622e3-68a2-416e-bc67-beb5ed9279ef",
   "metadata": {},
   "outputs": [
    {
     "data": {
      "text/plain": [
       "7.0"
      ]
     },
     "execution_count": 2,
     "metadata": {},
     "output_type": "execute_result"
    }
   ],
   "source": [
    "8.5 - 1.5"
   ]
  },
  {
   "cell_type": "code",
   "execution_count": 3,
   "id": "d42349e5-7f7a-41d5-a6b6-757cc48fe0a1",
   "metadata": {},
   "outputs": [
    {
     "data": {
      "text/plain": [
       "7.0"
      ]
     },
     "execution_count": 3,
     "metadata": {},
     "output_type": "execute_result"
    }
   ],
   "source": [
    "2 * 3.5"
   ]
  },
  {
   "cell_type": "code",
   "execution_count": 4,
   "id": "6bfcdcd4-3a8b-4da3-934f-1e71d600d574",
   "metadata": {},
   "outputs": [
    {
     "data": {
      "text/plain": [
       "3.3333333333333335"
      ]
     },
     "execution_count": 4,
     "metadata": {},
     "output_type": "execute_result"
    }
   ],
   "source": [
    "10 / 3"
   ]
  },
  {
   "cell_type": "code",
   "execution_count": 5,
   "id": "f2027b16-a5fc-45a0-982f-0ca78a05b9bc",
   "metadata": {},
   "outputs": [
    {
     "data": {
      "text/plain": [
       "3"
      ]
     },
     "execution_count": 5,
     "metadata": {},
     "output_type": "execute_result"
    }
   ],
   "source": [
    "10 // 3"
   ]
  },
  {
   "cell_type": "code",
   "execution_count": 6,
   "id": "69e61130-5ab2-4c0b-abf5-51aa2d91c7e8",
   "metadata": {},
   "outputs": [
    {
     "data": {
      "text/plain": [
       "1"
      ]
     },
     "execution_count": 6,
     "metadata": {},
     "output_type": "execute_result"
    }
   ],
   "source": [
    "10 % 3"
   ]
  },
  {
   "cell_type": "code",
   "execution_count": 7,
   "id": "999c5ef8-19a4-4b65-bb65-fd5d75194554",
   "metadata": {},
   "outputs": [],
   "source": [
    "a = 3 + 5J\n",
    "b = 2 + 2J"
   ]
  },
  {
   "cell_type": "code",
   "execution_count": 8,
   "id": "7cdffa25-0447-4496-b3f2-a45ecd07e6f6",
   "metadata": {},
   "outputs": [],
   "source": [
    "suma = a + b"
   ]
  },
  {
   "cell_type": "code",
   "execution_count": 9,
   "id": "a878a2fc-e59a-44a5-9439-2938dfb64122",
   "metadata": {},
   "outputs": [
    {
     "name": "stdout",
     "output_type": "stream",
     "text": [
      "(5+7j)\n"
     ]
    }
   ],
   "source": [
    "print(suma)"
   ]
  },
  {
   "cell_type": "code",
   "execution_count": 10,
   "id": "6acbee9d-0d45-4f66-b923-4096f454529c",
   "metadata": {},
   "outputs": [],
   "source": [
    "num = '1'"
   ]
  },
  {
   "cell_type": "code",
   "execution_count": 11,
   "id": "7b9c1123-2de4-47f2-ac7e-713247343e16",
   "metadata": {},
   "outputs": [
    {
     "data": {
      "text/plain": [
       "'11'"
      ]
     },
     "execution_count": 11,
     "metadata": {},
     "output_type": "execute_result"
    }
   ],
   "source": [
    "num + num"
   ]
  },
  {
   "cell_type": "code",
   "execution_count": 12,
   "id": "fdcf75bb-d007-4885-b0fe-6e125e199bc5",
   "metadata": {},
   "outputs": [],
   "source": [
    "num2 = 2"
   ]
  },
  {
   "cell_type": "code",
   "execution_count": 13,
   "id": "45d7fcde-f435-4a85-82c6-8486278b6bc5",
   "metadata": {},
   "outputs": [
    {
     "data": {
      "text/plain": [
       "4"
      ]
     },
     "execution_count": 13,
     "metadata": {},
     "output_type": "execute_result"
    }
   ],
   "source": [
    "num2 + num2"
   ]
  },
  {
   "cell_type": "code",
   "execution_count": 14,
   "id": "222b64bb-2cac-4696-8636-beabfbbc0df3",
   "metadata": {},
   "outputs": [
    {
     "data": {
      "text/plain": [
       "'federico'"
      ]
     },
     "execution_count": 14,
     "metadata": {},
     "output_type": "execute_result"
    }
   ],
   "source": [
    "\"fede\" + \"rico\""
   ]
  },
  {
   "cell_type": "code",
   "execution_count": 15,
   "id": "267be597-4e12-4faa-a3bd-b2053d6b2ec7",
   "metadata": {},
   "outputs": [
    {
     "data": {
      "text/plain": [
       "2"
      ]
     },
     "execution_count": 15,
     "metadata": {},
     "output_type": "execute_result"
    }
   ],
   "source": [
    "1 + int(num)"
   ]
  },
  {
   "cell_type": "code",
   "execution_count": 16,
   "id": "36df6332-f79e-496d-a80e-c740a1a20bca",
   "metadata": {},
   "outputs": [
    {
     "data": {
      "text/plain": [
       "25"
      ]
     },
     "execution_count": 16,
     "metadata": {},
     "output_type": "execute_result"
    }
   ],
   "source": [
    "5 ** 2"
   ]
  },
  {
   "cell_type": "code",
   "execution_count": 17,
   "id": "8031350e-5c1e-478a-a40e-0db33720a423",
   "metadata": {},
   "outputs": [
    {
     "data": {
      "text/plain": [
       "5.0"
      ]
     },
     "execution_count": 17,
     "metadata": {},
     "output_type": "execute_result"
    }
   ],
   "source": [
    "25 ** 0.5"
   ]
  },
  {
   "cell_type": "code",
   "execution_count": 18,
   "id": "12459514-ec91-4144-ba6a-82bb15a6de2d",
   "metadata": {},
   "outputs": [
    {
     "data": {
      "text/plain": [
       "2.924017738212866"
      ]
     },
     "execution_count": 18,
     "metadata": {},
     "output_type": "execute_result"
    }
   ],
   "source": [
    "25 ** (1/3)"
   ]
  }
 ],
 "metadata": {
  "kernelspec": {
   "display_name": "Python 3 (ipykernel)",
   "language": "python",
   "name": "python3"
  },
  "language_info": {
   "codemirror_mode": {
    "name": "ipython",
    "version": 3
   },
   "file_extension": ".py",
   "mimetype": "text/x-python",
   "name": "python",
   "nbconvert_exporter": "python",
   "pygments_lexer": "ipython3",
   "version": "3.13.5"
  }
 },
 "nbformat": 4,
 "nbformat_minor": 5
}
