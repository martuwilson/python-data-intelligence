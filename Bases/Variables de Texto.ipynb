{
 "cells": [
  {
   "cell_type": "code",
   "execution_count": 1,
   "id": "a8d66e46-ccb8-4e72-a0c5-287ad223c4a4",
   "metadata": {},
   "outputs": [
    {
     "data": {
      "text/plain": [
       "'Hola Mundo'"
      ]
     },
     "execution_count": 1,
     "metadata": {},
     "output_type": "execute_result"
    }
   ],
   "source": [
    "\"Hola Mundo\""
   ]
  },
  {
   "cell_type": "code",
   "execution_count": 2,
   "id": "d757c478-21de-4421-8e82-fbcdb34955ef",
   "metadata": {},
   "outputs": [
    {
     "data": {
      "text/plain": [
       "'Hola Mundo'"
      ]
     },
     "execution_count": 2,
     "metadata": {},
     "output_type": "execute_result"
    }
   ],
   "source": [
    "'Hola Mundo'"
   ]
  },
  {
   "cell_type": "code",
   "execution_count": 3,
   "id": "da54dba4-a701-449c-834e-10e801437c59",
   "metadata": {},
   "outputs": [
    {
     "data": {
      "text/plain": [
       "\"El libro es 'El Principito'. No me acuerdo de que trata\""
      ]
     },
     "execution_count": 3,
     "metadata": {},
     "output_type": "execute_result"
    }
   ],
   "source": [
    "\"El libro es 'El Principito'. No me acuerdo de que trata\""
   ]
  },
  {
   "cell_type": "code",
   "execution_count": 4,
   "id": "9c32a149-49a7-4cad-ae0c-391e12c4b7f7",
   "metadata": {},
   "outputs": [],
   "source": [
    "oracion = \"El libro es 'Harry Potter'. Gran libro\""
   ]
  },
  {
   "cell_type": "code",
   "execution_count": 5,
   "id": "ca591105-92d3-4f1e-ba77-747b8ae48edb",
   "metadata": {},
   "outputs": [
    {
     "data": {
      "text/plain": [
       "\"El libro es 'Harry Potter'. Gran libro\""
      ]
     },
     "execution_count": 5,
     "metadata": {},
     "output_type": "execute_result"
    }
   ],
   "source": [
    "oracion "
   ]
  },
  {
   "cell_type": "code",
   "execution_count": 6,
   "id": "1e8631ba-f252-4066-a8d6-5e86447bffab",
   "metadata": {},
   "outputs": [],
   "source": [
    "oracion2 = \"El libro es 'Harry Potter'. Gran libro\""
   ]
  },
  {
   "cell_type": "code",
   "execution_count": 7,
   "id": "5edb4672-ab87-4365-9d4e-524fba55c3e0",
   "metadata": {},
   "outputs": [
    {
     "data": {
      "text/plain": [
       "True"
      ]
     },
     "execution_count": 7,
     "metadata": {},
     "output_type": "execute_result"
    }
   ],
   "source": [
    "oracion == oracion2"
   ]
  },
  {
   "cell_type": "code",
   "execution_count": null,
   "id": "b827d1cd-7b0e-42b0-abb7-119ed69b450f",
   "metadata": {},
   "outputs": [],
   "source": []
  }
 ],
 "metadata": {
  "kernelspec": {
   "display_name": "Python 3 (ipykernel)",
   "language": "python",
   "name": "python3"
  },
  "language_info": {
   "codemirror_mode": {
    "name": "ipython",
    "version": 3
   },
   "file_extension": ".py",
   "mimetype": "text/x-python",
   "name": "python",
   "nbconvert_exporter": "python",
   "pygments_lexer": "ipython3",
   "version": "3.13.5"
  }
 },
 "nbformat": 4,
 "nbformat_minor": 5
}
