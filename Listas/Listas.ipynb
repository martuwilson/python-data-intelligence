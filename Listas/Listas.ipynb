{
 "cells": [
  {
   "cell_type": "code",
   "execution_count": 1,
   "id": "24f63cf4-f787-4372-9b4c-66ebb5f64a0c",
   "metadata": {},
   "outputs": [],
   "source": [
    "## Listas: Coleccion de objetos"
   ]
  },
  {
   "cell_type": "code",
   "execution_count": 25,
   "id": "28986df0-2375-41fd-b756-186558525d7b",
   "metadata": {},
   "outputs": [],
   "source": [
    "frutas = [\"banana\", \"Manzana\", \"Pera\"]"
   ]
  },
  {
   "cell_type": "code",
   "execution_count": 26,
   "id": "4af39bf0-a3e8-45cd-965e-6d9cb59cfc37",
   "metadata": {},
   "outputs": [
    {
     "data": {
      "text/plain": [
       "['banana', 'Manzana', 'Pera']"
      ]
     },
     "execution_count": 26,
     "metadata": {},
     "output_type": "execute_result"
    }
   ],
   "source": [
    "frutas"
   ]
  },
  {
   "cell_type": "code",
   "execution_count": 27,
   "id": "74d34f87-0a4e-48e8-bc28-51afb806c667",
   "metadata": {},
   "outputs": [
    {
     "data": {
      "text/plain": [
       "list"
      ]
     },
     "execution_count": 27,
     "metadata": {},
     "output_type": "execute_result"
    }
   ],
   "source": [
    "type(frutas)"
   ]
  },
  {
   "cell_type": "code",
   "execution_count": 28,
   "id": "29a693a1-3da8-436e-b23d-adaf34392536",
   "metadata": {},
   "outputs": [],
   "source": [
    "## Pueden tener elementos de varios tipos\n",
    "numeros = [10,30, 85]"
   ]
  },
  {
   "cell_type": "code",
   "execution_count": 29,
   "id": "4cc9a029-2e33-4fd4-8a31-411b089e74c9",
   "metadata": {},
   "outputs": [],
   "source": [
    "miLista = [[10,32,20], [\"a\", \"b\", \"c\"], [\"Pablo\", \"Micaela\", \"Milena\"]]"
   ]
  },
  {
   "cell_type": "code",
   "execution_count": 30,
   "id": "7e735f14-2d26-4042-9924-2bf4ad5b69fb",
   "metadata": {},
   "outputs": [
    {
     "data": {
      "text/plain": [
       "[[10, 32, 20], ['a', 'b', 'c'], ['Pablo', 'Micaela', 'Milena']]"
      ]
     },
     "execution_count": 30,
     "metadata": {},
     "output_type": "execute_result"
    }
   ],
   "source": [
    "miLista"
   ]
  },
  {
   "cell_type": "code",
   "execution_count": 31,
   "id": "0eb1efb4-28a8-44b2-981c-fc36883ea4ec",
   "metadata": {},
   "outputs": [],
   "source": [
    "a = [\"Madrid\", 2, 6.3] ## Mala practica"
   ]
  },
  {
   "cell_type": "code",
   "execution_count": 32,
   "id": "1e6e77e3-b39d-46d5-8e3f-960f6f1bac8c",
   "metadata": {},
   "outputs": [
    {
     "data": {
      "text/plain": [
       "list"
      ]
     },
     "execution_count": 32,
     "metadata": {},
     "output_type": "execute_result"
    }
   ],
   "source": [
    "type(a)"
   ]
  },
  {
   "cell_type": "code",
   "execution_count": 33,
   "id": "48847f27-17dc-49f7-a9b3-2d0c346507bf",
   "metadata": {},
   "outputs": [
    {
     "data": {
      "text/plain": [
       "'banana'"
      ]
     },
     "execution_count": 33,
     "metadata": {},
     "output_type": "execute_result"
    }
   ],
   "source": [
    "##Acceder a elementos de la listas\n",
    "frutas[0]"
   ]
  },
  {
   "cell_type": "code",
   "execution_count": 34,
   "id": "ce476f5e-53d5-412d-b964-a3ede5e70672",
   "metadata": {},
   "outputs": [
    {
     "data": {
      "text/plain": [
       "'Micaela'"
      ]
     },
     "execution_count": 34,
     "metadata": {},
     "output_type": "execute_result"
    }
   ],
   "source": [
    "##Encontrar un elementos ejemplo Micaela\n",
    "miLista[2][1] ##Ingresa primero a la sublista y luego al elemento"
   ]
  },
  {
   "cell_type": "code",
   "execution_count": 35,
   "id": "87b19ec9-6468-4c0d-99ba-519bbf6cb823",
   "metadata": {},
   "outputs": [],
   "source": [
    "##Cambiar un elemento\n",
    "frutas[0] = \"Sandia\""
   ]
  },
  {
   "cell_type": "code",
   "execution_count": 36,
   "id": "080d199c-8dfd-4d32-a4bc-c5a41363246e",
   "metadata": {},
   "outputs": [
    {
     "data": {
      "text/plain": [
       "['Sandia', 'Manzana', 'Pera']"
      ]
     },
     "execution_count": 36,
     "metadata": {},
     "output_type": "execute_result"
    }
   ],
   "source": [
    "frutas"
   ]
  },
  {
   "cell_type": "code",
   "execution_count": 37,
   "id": "6759809f-aeae-4ef1-8501-927e70696170",
   "metadata": {},
   "outputs": [
    {
     "data": {
      "text/plain": [
       "['Sandia', 'Manzana', 'Pera', 'Mango']"
      ]
     },
     "execution_count": 37,
     "metadata": {},
     "output_type": "execute_result"
    }
   ],
   "source": [
    "##sumar un elemento\n",
    "frutas.append(\"Mango\") ## agrega al final\n",
    "frutas"
   ]
  },
  {
   "cell_type": "code",
   "execution_count": 38,
   "id": "33b61a12-13f2-49a7-9477-0fdfdd8f5f01",
   "metadata": {},
   "outputs": [],
   "source": [
    "##Orden alfabetico"
   ]
  },
  {
   "cell_type": "code",
   "execution_count": 39,
   "id": "d6c5fde3-af71-455f-891f-d3c38ea6210e",
   "metadata": {},
   "outputs": [],
   "source": [
    "frutas.sort()"
   ]
  },
  {
   "cell_type": "code",
   "execution_count": 40,
   "id": "bb3b5d3b-a74b-4fcd-9bc1-7f709c00c00f",
   "metadata": {},
   "outputs": [
    {
     "data": {
      "text/plain": [
       "['Mango', 'Manzana', 'Pera', 'Sandia']"
      ]
     },
     "execution_count": 40,
     "metadata": {},
     "output_type": "execute_result"
    }
   ],
   "source": [
    "frutas"
   ]
  },
  {
   "cell_type": "code",
   "execution_count": 41,
   "id": "8dc6aef7-a02f-4348-bf43-2f375e578610",
   "metadata": {},
   "outputs": [
    {
     "data": {
      "text/plain": [
       "['Sandia', 'Pera', 'Manzana', 'Mango']"
      ]
     },
     "execution_count": 41,
     "metadata": {},
     "output_type": "execute_result"
    }
   ],
   "source": [
    "## Al reve el orden\n",
    "frutas.sort(reverse=True)\n",
    "frutas"
   ]
  },
  {
   "cell_type": "code",
   "execution_count": 43,
   "id": "04f19f53-b56a-4f09-aa21-5db70deb8ace",
   "metadata": {},
   "outputs": [
    {
     "data": {
      "text/plain": [
       "['Sandia', 'Pera', 'Manzana', 'Mango']"
      ]
     },
     "execution_count": 43,
     "metadata": {},
     "output_type": "execute_result"
    }
   ],
   "source": [
    "frutas ## Reordeno la secuencia original, no como en objetos donde no es inmmutable. Las listas mutan."
   ]
  },
  {
   "cell_type": "code",
   "execution_count": 44,
   "id": "23a66713-974b-4e8d-8076-a247fcd375b4",
   "metadata": {},
   "outputs": [
    {
     "data": {
      "text/plain": [
       "'SOMBRERO'"
      ]
     },
     "execution_count": 44,
     "metadata": {},
     "output_type": "execute_result"
    }
   ],
   "source": [
    "##Ejemplo del concepto listas vs objetos\n",
    "palabra = \"sombrero\"\n",
    "palabra.upper()"
   ]
  },
  {
   "cell_type": "code",
   "execution_count": 45,
   "id": "dae57306-dc84-48a9-83f6-1798326402bc",
   "metadata": {},
   "outputs": [
    {
     "data": {
      "text/plain": [
       "'sombrero'"
      ]
     },
     "execution_count": 45,
     "metadata": {},
     "output_type": "execute_result"
    }
   ],
   "source": [
    "palabra"
   ]
  },
  {
   "cell_type": "code",
   "execution_count": 46,
   "id": "2d115984-f3f1-43e2-ac95-edfedeabd3ff",
   "metadata": {},
   "outputs": [
    {
     "data": {
      "text/plain": [
       "['Pera', 'Manzana', 'Mango']"
      ]
     },
     "execution_count": 46,
     "metadata": {},
     "output_type": "execute_result"
    }
   ],
   "source": [
    "##Eliminar\n",
    "frutas.remove(\"Sandia\")\n",
    "frutas"
   ]
  },
  {
   "cell_type": "code",
   "execution_count": 47,
   "id": "b55dcc7a-d680-493f-acfc-c824685e65e8",
   "metadata": {},
   "outputs": [
    {
     "data": {
      "text/plain": [
       "['Mango', 'Manzana', 'Pera']"
      ]
     },
     "execution_count": 47,
     "metadata": {},
     "output_type": "execute_result"
    }
   ],
   "source": [
    "frutas.reverse()\n",
    "frutas"
   ]
  },
  {
   "cell_type": "code",
   "execution_count": 48,
   "id": "f622b17c-1960-43d5-8f02-e7137cb7e607",
   "metadata": {},
   "outputs": [
    {
     "data": {
      "text/plain": [
       "['__add__',\n",
       " '__class__',\n",
       " '__class_getitem__',\n",
       " '__contains__',\n",
       " '__delattr__',\n",
       " '__delitem__',\n",
       " '__dir__',\n",
       " '__doc__',\n",
       " '__eq__',\n",
       " '__format__',\n",
       " '__ge__',\n",
       " '__getattribute__',\n",
       " '__getitem__',\n",
       " '__getstate__',\n",
       " '__gt__',\n",
       " '__hash__',\n",
       " '__iadd__',\n",
       " '__imul__',\n",
       " '__init__',\n",
       " '__init_subclass__',\n",
       " '__iter__',\n",
       " '__le__',\n",
       " '__len__',\n",
       " '__lt__',\n",
       " '__mul__',\n",
       " '__ne__',\n",
       " '__new__',\n",
       " '__reduce__',\n",
       " '__reduce_ex__',\n",
       " '__repr__',\n",
       " '__reversed__',\n",
       " '__rmul__',\n",
       " '__setattr__',\n",
       " '__setitem__',\n",
       " '__sizeof__',\n",
       " '__str__',\n",
       " '__subclasshook__',\n",
       " 'append',\n",
       " 'clear',\n",
       " 'copy',\n",
       " 'count',\n",
       " 'extend',\n",
       " 'index',\n",
       " 'insert',\n",
       " 'pop',\n",
       " 'remove',\n",
       " 'reverse',\n",
       " 'sort']"
      ]
     },
     "execution_count": 48,
     "metadata": {},
     "output_type": "execute_result"
    }
   ],
   "source": [
    "dir(frutas)"
   ]
  },
  {
   "cell_type": "code",
   "execution_count": 49,
   "id": "936724bc-bc77-425d-812e-0d8287f17e38",
   "metadata": {},
   "outputs": [
    {
     "data": {
      "text/plain": [
       "[1, 2, 3, 4, 5, 6]"
      ]
     },
     "execution_count": 49,
     "metadata": {},
     "output_type": "execute_result"
    }
   ],
   "source": [
    "lista1 = [1,2,3]\n",
    "lista2 = [4,5,6]\n",
    "combinada = lista1 + lista2\n",
    "combinada"
   ]
  },
  {
   "cell_type": "code",
   "execution_count": 50,
   "id": "a562d8a5-49e1-4acf-9a60-d276ee7550be",
   "metadata": {},
   "outputs": [
    {
     "data": {
      "text/plain": [
       "[1, 2, 3, 4, 5, 6, 1, 2, 3, 4, 5, 6]"
      ]
     },
     "execution_count": 50,
     "metadata": {},
     "output_type": "execute_result"
    }
   ],
   "source": [
    "repetida = combinada * 2\n",
    "repetida"
   ]
  },
  {
   "cell_type": "code",
   "execution_count": 51,
   "id": "02cd0aae-6416-440d-82bc-de47d3fc81dd",
   "metadata": {},
   "outputs": [
    {
     "data": {
      "text/plain": [
       "[2, 3, 4]"
      ]
     },
     "execution_count": 51,
     "metadata": {},
     "output_type": "execute_result"
    }
   ],
   "source": [
    "sublista = combinada[1:4]\n",
    "sublista"
   ]
  },
  {
   "cell_type": "code",
   "execution_count": null,
   "id": "1fd5b5e0-93ce-48fa-a11c-c281e45d2a07",
   "metadata": {},
   "outputs": [],
   "source": []
  }
 ],
 "metadata": {
  "kernelspec": {
   "display_name": "Python 3 (ipykernel)",
   "language": "python",
   "name": "python3"
  },
  "language_info": {
   "codemirror_mode": {
    "name": "ipython",
    "version": 3
   },
   "file_extension": ".py",
   "mimetype": "text/x-python",
   "name": "python",
   "nbconvert_exporter": "python",
   "pygments_lexer": "ipython3",
   "version": "3.13.5"
  }
 },
 "nbformat": 4,
 "nbformat_minor": 5
}
