{
 "cells": [
  {
   "cell_type": "code",
   "execution_count": 1,
   "id": "bcce5a30-d6a3-4e98-9126-c056009c55b7",
   "metadata": {},
   "outputs": [
    {
     "data": {
      "text/plain": [
       "0     5\n",
       "1    10\n",
       "2    15\n",
       "3    20\n",
       "4    25\n",
       "dtype: int64"
      ]
     },
     "execution_count": 1,
     "metadata": {},
     "output_type": "execute_result"
    }
   ],
   "source": [
    "import pandas as pd\n",
    "serie = pd.Series([\n",
    "    5,10,15,20,25\n",
    "])\n",
    "serie"
   ]
  },
  {
   "cell_type": "code",
   "execution_count": 2,
   "id": "3bca6052-7d7b-469d-8c32-fe562ec29b25",
   "metadata": {},
   "outputs": [],
   "source": [
    "## filtrado = pregiuntas especificas, eje saber cuales son mayores que X numero"
   ]
  },
  {
   "cell_type": "code",
   "execution_count": 3,
   "id": "0a8c2ffb-a7ae-40e1-a279-cb57d318384d",
   "metadata": {},
   "outputs": [
    {
     "data": {
      "text/plain": [
       "3    20\n",
       "4    25\n",
       "dtype: int64"
      ]
     },
     "execution_count": 3,
     "metadata": {},
     "output_type": "execute_result"
    }
   ],
   "source": [
    "filtro = serie > 15\n",
    "serie_filtrada = serie[filtro]\n",
    "serie_filtrada"
   ]
  },
  {
   "cell_type": "code",
   "execution_count": 4,
   "id": "5616893a-5638-4814-86ec-d048e0da1ed8",
   "metadata": {},
   "outputs": [
    {
     "data": {
      "text/plain": [
       "0    False\n",
       "1    False\n",
       "2    False\n",
       "3     True\n",
       "4     True\n",
       "dtype: bool"
      ]
     },
     "execution_count": 4,
     "metadata": {},
     "output_type": "execute_result"
    }
   ],
   "source": [
    "filtro"
   ]
  },
  {
   "cell_type": "code",
   "execution_count": 5,
   "id": "0a6a0392-0cac-423b-904e-22d1f4fd3a7c",
   "metadata": {},
   "outputs": [
    {
     "data": {
      "text/plain": [
       "pandas.core.series.Series"
      ]
     },
     "execution_count": 5,
     "metadata": {},
     "output_type": "execute_result"
    }
   ],
   "source": [
    "serie2 = pd.Series([\n",
    "    \"banana\", \"pera\", \"melon\", \"manzana\"\n",
    "])\n",
    "\n",
    "type(serie2)"
   ]
  },
  {
   "cell_type": "code",
   "execution_count": 6,
   "id": "c6f04e7a-a3cc-4214-8be1-69bf3a38ff97",
   "metadata": {},
   "outputs": [
    {
     "data": {
      "text/plain": [
       "2      melon\n",
       "3    manzana\n",
       "dtype: object"
      ]
     },
     "execution_count": 6,
     "metadata": {},
     "output_type": "execute_result"
    }
   ],
   "source": [
    "filtro_m = serie2.str.contains(\"m\") ## filtra quienes tengan letra m\n",
    "\n",
    "serie2_filtrada = serie2[filtro_m]\n",
    "serie2_filtrada"
   ]
  },
  {
   "cell_type": "code",
   "execution_count": null,
   "id": "448538eb-caa2-4bea-ba16-f5ca6405bbfd",
   "metadata": {},
   "outputs": [],
   "source": []
  }
 ],
 "metadata": {
  "kernelspec": {
   "display_name": "Python 3 (ipykernel)",
   "language": "python",
   "name": "python3"
  },
  "language_info": {
   "codemirror_mode": {
    "name": "ipython",
    "version": 3
   },
   "file_extension": ".py",
   "mimetype": "text/x-python",
   "name": "python",
   "nbconvert_exporter": "python",
   "pygments_lexer": "ipython3",
   "version": "3.13.5"
  }
 },
 "nbformat": 4,
 "nbformat_minor": 5
}
