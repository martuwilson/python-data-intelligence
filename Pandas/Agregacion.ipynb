{
 "cells": [
  {
   "cell_type": "code",
   "execution_count": 1,
   "id": "5d2399eb-6df5-424d-adcd-09636bf6199e",
   "metadata": {},
   "outputs": [
    {
     "data": {
      "text/plain": [
       "0    10\n",
       "1    20\n",
       "2    30\n",
       "3    40\n",
       "4    50\n",
       "dtype: int64"
      ]
     },
     "execution_count": 1,
     "metadata": {},
     "output_type": "execute_result"
    }
   ],
   "source": [
    "import pandas as pd\n",
    "\n",
    "serie = pd.Series([\n",
    "    10,20,30,40,50\n",
    "])\n",
    "serie"
   ]
  },
  {
   "cell_type": "code",
   "execution_count": 2,
   "id": "1b8f01f8-feab-4cf2-9e11-493c64f4686b",
   "metadata": {},
   "outputs": [
    {
     "name": "stdout",
     "output_type": "stream",
     "text": [
      "el promedio es: 30.0\n"
     ]
    }
   ],
   "source": [
    "promedio = serie.mean()\n",
    "print(f\"el promedio es: {promedio}\")"
   ]
  },
  {
   "cell_type": "code",
   "execution_count": 3,
   "id": "27eb1133-b75d-41fd-93e2-236505c09f8c",
   "metadata": {},
   "outputs": [
    {
     "data": {
      "text/plain": [
       "np.int64(150)"
      ]
     },
     "execution_count": 3,
     "metadata": {},
     "output_type": "execute_result"
    }
   ],
   "source": [
    "total = serie.sum()\n",
    "total"
   ]
  },
  {
   "cell_type": "code",
   "execution_count": 4,
   "id": "3a01cae7-f7ac-4458-a2b4-4819d8c965cc",
   "metadata": {},
   "outputs": [
    {
     "data": {
      "text/plain": [
       "50"
      ]
     },
     "execution_count": 4,
     "metadata": {},
     "output_type": "execute_result"
    }
   ],
   "source": [
    "maximo = serie.max()\n",
    "maximo"
   ]
  },
  {
   "cell_type": "code",
   "execution_count": 5,
   "id": "cfc29ff8-d43e-4dea-873d-fda46e08aeb7",
   "metadata": {},
   "outputs": [
    {
     "data": {
      "text/plain": [
       "10"
      ]
     },
     "execution_count": 5,
     "metadata": {},
     "output_type": "execute_result"
    }
   ],
   "source": [
    "minimo = serie.min()\n",
    "minimo"
   ]
  },
  {
   "cell_type": "code",
   "execution_count": null,
   "id": "70d5f979-df46-4820-8179-93a2d0820877",
   "metadata": {},
   "outputs": [],
   "source": [
    "    "
   ]
  }
 ],
 "metadata": {
  "kernelspec": {
   "display_name": "Python 3 (ipykernel)",
   "language": "python",
   "name": "python3"
  },
  "language_info": {
   "codemirror_mode": {
    "name": "ipython",
    "version": 3
   },
   "file_extension": ".py",
   "mimetype": "text/x-python",
   "name": "python",
   "nbconvert_exporter": "python",
   "pygments_lexer": "ipython3",
   "version": "3.13.5"
  }
 },
 "nbformat": 4,
 "nbformat_minor": 5
}
