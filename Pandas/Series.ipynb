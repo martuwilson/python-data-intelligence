{
 "cells": [
  {
   "cell_type": "code",
   "execution_count": 1,
   "id": "406220ed-4871-4544-88bc-2daecce005b4",
   "metadata": {},
   "outputs": [],
   "source": [
    "import pandas as pd\n",
    "df = pd.read_csv(r\"C:\\Users\\004543613\\Downloads\\Precipitaciones.csv\")"
   ]
  },
  {
   "cell_type": "code",
   "execution_count": 2,
   "id": "cc6fead8-88e3-41d2-b3d2-3a304974db04",
   "metadata": {},
   "outputs": [
    {
     "data": {
      "text/html": [
       "<div>\n",
       "<style scoped>\n",
       "    .dataframe tbody tr th:only-of-type {\n",
       "        vertical-align: middle;\n",
       "    }\n",
       "\n",
       "    .dataframe tbody tr th {\n",
       "        vertical-align: top;\n",
       "    }\n",
       "\n",
       "    .dataframe thead th {\n",
       "        text-align: right;\n",
       "    }\n",
       "</style>\n",
       "<table border=\"1\" class=\"dataframe\">\n",
       "  <thead>\n",
       "    <tr style=\"text-align: right;\">\n",
       "      <th></th>\n",
       "      <th>region</th>\n",
       "      <th>enero</th>\n",
       "      <th>febrero</th>\n",
       "      <th>marzo</th>\n",
       "      <th>abril</th>\n",
       "      <th>mayo</th>\n",
       "      <th>junio</th>\n",
       "      <th>julio</th>\n",
       "      <th>agosto</th>\n",
       "      <th>septiembre</th>\n",
       "      <th>octubre</th>\n",
       "      <th>noviembre</th>\n",
       "      <th>diciembre</th>\n",
       "      <th>anual</th>\n",
       "    </tr>\n",
       "  </thead>\n",
       "  <tbody>\n",
       "    <tr>\n",
       "      <th>0</th>\n",
       "      <td>A CORUNA</td>\n",
       "      <td>240.5</td>\n",
       "      <td>293.4</td>\n",
       "      <td>31.0</td>\n",
       "      <td>80.6</td>\n",
       "      <td>149.5</td>\n",
       "      <td>108.9</td>\n",
       "      <td>44.6</td>\n",
       "      <td>21.8</td>\n",
       "      <td>96.5</td>\n",
       "      <td>154.5</td>\n",
       "      <td>100.8</td>\n",
       "      <td>214.8</td>\n",
       "      <td>1536.9</td>\n",
       "    </tr>\n",
       "    <tr>\n",
       "      <th>1</th>\n",
       "      <td>ALBACETE</td>\n",
       "      <td>68.1</td>\n",
       "      <td>28.0</td>\n",
       "      <td>26.2</td>\n",
       "      <td>65.3</td>\n",
       "      <td>25.4</td>\n",
       "      <td>50.0</td>\n",
       "      <td>2.0</td>\n",
       "      <td>34.5</td>\n",
       "      <td>48.0</td>\n",
       "      <td>44.8</td>\n",
       "      <td>33.1</td>\n",
       "      <td>14.1</td>\n",
       "      <td>439.5</td>\n",
       "    </tr>\n",
       "    <tr>\n",
       "      <th>2</th>\n",
       "      <td>ALICANTE</td>\n",
       "      <td>49.2</td>\n",
       "      <td>3.7</td>\n",
       "      <td>63.2</td>\n",
       "      <td>85.8</td>\n",
       "      <td>57.2</td>\n",
       "      <td>20.0</td>\n",
       "      <td>9.2</td>\n",
       "      <td>5.0</td>\n",
       "      <td>44.0</td>\n",
       "      <td>41.1</td>\n",
       "      <td>47.4</td>\n",
       "      <td>1.8</td>\n",
       "      <td>427.6</td>\n",
       "    </tr>\n",
       "    <tr>\n",
       "      <th>3</th>\n",
       "      <td>ALMERIA</td>\n",
       "      <td>56.3</td>\n",
       "      <td>5.2</td>\n",
       "      <td>35.8</td>\n",
       "      <td>43.1</td>\n",
       "      <td>38.8</td>\n",
       "      <td>16.9</td>\n",
       "      <td>10.2</td>\n",
       "      <td>1.9</td>\n",
       "      <td>17.4</td>\n",
       "      <td>27.3</td>\n",
       "      <td>32.6</td>\n",
       "      <td>3.2</td>\n",
       "      <td>288.7</td>\n",
       "    </tr>\n",
       "    <tr>\n",
       "      <th>4</th>\n",
       "      <td>ARABA</td>\n",
       "      <td>96.8</td>\n",
       "      <td>79.9</td>\n",
       "      <td>38.0</td>\n",
       "      <td>52.0</td>\n",
       "      <td>37.7</td>\n",
       "      <td>107.8</td>\n",
       "      <td>8.5</td>\n",
       "      <td>17.7</td>\n",
       "      <td>63.3</td>\n",
       "      <td>38.5</td>\n",
       "      <td>212.2</td>\n",
       "      <td>197.3</td>\n",
       "      <td>949.7</td>\n",
       "    </tr>\n",
       "  </tbody>\n",
       "</table>\n",
       "</div>"
      ],
      "text/plain": [
       "     region  enero  febrero  marzo  abril   mayo  junio  julio  agosto  \\\n",
       "0  A CORUNA  240.5    293.4   31.0   80.6  149.5  108.9   44.6    21.8   \n",
       "1  ALBACETE   68.1     28.0   26.2   65.3   25.4   50.0    2.0    34.5   \n",
       "2  ALICANTE   49.2      3.7   63.2   85.8   57.2   20.0    9.2     5.0   \n",
       "3   ALMERIA   56.3      5.2   35.8   43.1   38.8   16.9   10.2     1.9   \n",
       "4     ARABA   96.8     79.9   38.0   52.0   37.7  107.8    8.5    17.7   \n",
       "\n",
       "   septiembre  octubre  noviembre  diciembre   anual  \n",
       "0        96.5    154.5      100.8      214.8  1536.9  \n",
       "1        48.0     44.8       33.1       14.1   439.5  \n",
       "2        44.0     41.1       47.4        1.8   427.6  \n",
       "3        17.4     27.3       32.6        3.2   288.7  \n",
       "4        63.3     38.5      212.2      197.3   949.7  "
      ]
     },
     "execution_count": 2,
     "metadata": {},
     "output_type": "execute_result"
    }
   ],
   "source": [
    "df.head()"
   ]
  },
  {
   "cell_type": "code",
   "execution_count": 3,
   "id": "996625d9-8fb8-4c1c-8474-6651e5c0402c",
   "metadata": {},
   "outputs": [
    {
     "data": {
      "text/plain": [
       "0                   A CORUNA\n",
       "1                   ALBACETE\n",
       "2                   ALICANTE\n",
       "3                    ALMERIA\n",
       "4                      ARABA\n",
       "5                   ASTURIAS\n",
       "6                      AVILA\n",
       "7                    BADAJOZ\n",
       "8              ILLES BALEARS\n",
       "9                  BARCELONA\n",
       "10                   BIZKAIA\n",
       "11                    BURGOS\n",
       "12                   CACERES\n",
       "13                     CADIZ\n",
       "14                 CANTABRIA\n",
       "15                 CASTELLON\n",
       "16                     CEUTA\n",
       "17               CIUDAD REAL\n",
       "18                   CORDOBA\n",
       "19                    CUENCA\n",
       "20                  GIPUZKOA\n",
       "21                    GIRONA\n",
       "22                   GRANADA\n",
       "23               GUADALAJARA\n",
       "24                    HUELVA\n",
       "25                    HUESCA\n",
       "26                      JAEN\n",
       "27                  LA RIOJA\n",
       "28                LAS PALMAS\n",
       "29                      LEON\n",
       "30                    LLEIDA\n",
       "31                      LUGO\n",
       "32                    MADRID\n",
       "33                    MALAGA\n",
       "34                   MELILLA\n",
       "35                    MURCIA\n",
       "36                   NAVARRA\n",
       "37                   OURENSE\n",
       "38                  PALENCIA\n",
       "39                PONTEVEDRA\n",
       "40                 SALAMANCA\n",
       "41    SANTA CRUZ DE TENERIFE\n",
       "42                   SEGOVIA\n",
       "43                   SEVILLA\n",
       "44                     SORIA\n",
       "45                 TARRAGONA\n",
       "46                    TERUEL\n",
       "47                    TOLEDO\n",
       "48                  VALENCIA\n",
       "49                VALLADOLID\n",
       "50                    ZAMORA\n",
       "51                  ZARAGOZA\n",
       "Name: region, dtype: object"
      ]
     },
     "execution_count": 3,
     "metadata": {},
     "output_type": "execute_result"
    }
   ],
   "source": [
    "serie = df[\"region\"]\n",
    "serie"
   ]
  },
  {
   "cell_type": "code",
   "execution_count": 4,
   "id": "2b4ae5c9-f671-4c05-8cda-3b0e734ad013",
   "metadata": {},
   "outputs": [
    {
     "data": {
      "text/plain": [
       "0    A CORUNA\n",
       "1    ALBACETE\n",
       "2    ALICANTE\n",
       "3     ALMERIA\n",
       "4       ARABA\n",
       "Name: region, dtype: object"
      ]
     },
     "execution_count": 4,
     "metadata": {},
     "output_type": "execute_result"
    }
   ],
   "source": [
    "serie.head()"
   ]
  },
  {
   "cell_type": "code",
   "execution_count": 5,
   "id": "f11edc6a-45ac-4fb9-a940-d884f51f653a",
   "metadata": {},
   "outputs": [],
   "source": [
    "## Arreglo unidimensional es una serie. Dataframe bidemensional."
   ]
  },
  {
   "cell_type": "code",
   "execution_count": 6,
   "id": "7414f8f0-cc8d-4e5e-a190-5fa935020913",
   "metadata": {},
   "outputs": [],
   "source": [
    "datos = [10,20,30,40,50]"
   ]
  },
  {
   "cell_type": "code",
   "execution_count": 7,
   "id": "138ec0ae-9f3f-490b-b395-2623d3e91657",
   "metadata": {},
   "outputs": [
    {
     "data": {
      "text/plain": [
       "0    10\n",
       "1    20\n",
       "2    30\n",
       "3    40\n",
       "4    50\n",
       "dtype: int64"
      ]
     },
     "execution_count": 7,
     "metadata": {},
     "output_type": "execute_result"
    }
   ],
   "source": [
    "serie2 = pd.Series(datos)\n",
    "serie2"
   ]
  },
  {
   "cell_type": "code",
   "execution_count": 9,
   "id": "1c4d2a38-5e81-421d-93c7-7fe068122ea9",
   "metadata": {},
   "outputs": [
    {
     "data": {
      "text/plain": [
       "a    10\n",
       "b    20\n",
       "c    30\n",
       "d    40\n",
       "e    50\n",
       "dtype: int64"
      ]
     },
     "execution_count": 9,
     "metadata": {},
     "output_type": "execute_result"
    }
   ],
   "source": [
    "## asignar indices personalizados a las sries de pandas\n",
    "indices = [\"a\", \"b\", \"c\", \"d\",\"e\"]\n",
    "serie2 = pd.Series(datos, indices)\n",
    "serie2"
   ]
  },
  {
   "cell_type": "code",
   "execution_count": 10,
   "id": "9e6fcc63-d8b8-484d-b9c7-e77adb8d947f",
   "metadata": {},
   "outputs": [
    {
     "data": {
      "text/plain": [
       "np.int64(20)"
      ]
     },
     "execution_count": 10,
     "metadata": {},
     "output_type": "execute_result"
    }
   ],
   "source": [
    "serie2[\"b\"]"
   ]
  },
  {
   "cell_type": "code",
   "execution_count": 12,
   "id": "e07848a5-26c8-4885-8bb9-4b6a62d8c45a",
   "metadata": {},
   "outputs": [
    {
     "data": {
      "text/plain": [
       "España             Madrid\n",
       "Peru                 Lima\n",
       "Argentina    Buenos Aires\n",
       "dtype: object"
      ]
     },
     "execution_count": 12,
     "metadata": {},
     "output_type": "execute_result"
    }
   ],
   "source": [
    "capitales = {\n",
    "    \"España\":\"Madrid\", \"Peru\":\"Lima\", \"Argentina\":\"Buenos Aires\"\n",
    "}\n",
    "\n",
    "serie3 = pd.Series(capitales)\n",
    "serie3"
   ]
  },
  {
   "cell_type": "code",
   "execution_count": 13,
   "id": "6326d9cf-a556-4bd3-90fe-24358766c01a",
   "metadata": {},
   "outputs": [],
   "source": [
    "##en el caso de arriba, los indices pueden asignarles los indices que quiera."
   ]
  },
  {
   "cell_type": "code",
   "execution_count": 14,
   "id": "e4c08105-6b89-4060-8669-8e85c2fa92f7",
   "metadata": {},
   "outputs": [
    {
     "data": {
      "text/plain": [
       "'Lima'"
      ]
     },
     "execution_count": 14,
     "metadata": {},
     "output_type": "execute_result"
    }
   ],
   "source": [
    "serie3[\"Peru\"]"
   ]
  },
  {
   "cell_type": "code",
   "execution_count": null,
   "id": "a46103f5-4051-457f-8717-5ae7a8d63de9",
   "metadata": {},
   "outputs": [],
   "source": []
  }
 ],
 "metadata": {
  "kernelspec": {
   "display_name": "Python 3 (ipykernel)",
   "language": "python",
   "name": "python3"
  },
  "language_info": {
   "codemirror_mode": {
    "name": "ipython",
    "version": 3
   },
   "file_extension": ".py",
   "mimetype": "text/x-python",
   "name": "python",
   "nbconvert_exporter": "python",
   "pygments_lexer": "ipython3",
   "version": "3.13.5"
  }
 },
 "nbformat": 4,
 "nbformat_minor": 5
}
